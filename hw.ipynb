{
 "cells": [
  {
   "cell_type": "code",
   "execution_count": 35,
   "id": "6b1aed07",
   "metadata": {},
   "outputs": [],
   "source": [
    "import numpy as np\n",
    "import scipy.linalg"
   ]
  },
  {
   "cell_type": "markdown",
   "id": "006ec012",
   "metadata": {},
   "source": [
    "### 1"
   ]
  },
  {
   "cell_type": "code",
   "execution_count": 8,
   "id": "e84b3bc5",
   "metadata": {},
   "outputs": [
    {
     "data": {
      "text/plain": [
       "array([-9.2       ,  0.9       ,  6.46666667])"
      ]
     },
     "execution_count": 8,
     "metadata": {},
     "output_type": "execute_result"
    }
   ],
   "source": [
    "A = np.array([[1, 2, 3], [4, 0, 6], [7, 8, 9]])\n",
    "B = np.array([12, 2, 1])\n",
    "\n",
    "np.linalg.solve(A, B)"
   ]
  },
  {
   "cell_type": "markdown",
   "id": "a703b7a8",
   "metadata": {},
   "source": [
    "### 2"
   ]
  },
  {
   "cell_type": "code",
   "execution_count": 15,
   "id": "babd9ecd",
   "metadata": {},
   "outputs": [
    {
     "data": {
      "text/plain": [
       "array([ 1.13919353, -0.90498444, -0.9009803 ])"
      ]
     },
     "execution_count": 15,
     "metadata": {},
     "output_type": "execute_result"
    }
   ],
   "source": [
    "A = np.array([[1, 2, -1], [3, -4, 0], [8, -5, 2], [2, 0, -5], [11, 4, -7]])\n",
    "B = np.array([1, 7, 12, 7, 15])\n",
    "\n",
    "np.linalg.lstsq(A, B, rcond=None)[0]"
   ]
  },
  {
   "cell_type": "markdown",
   "id": "50005eaa",
   "metadata": {},
   "source": [
    "### 3"
   ]
  },
  {
   "cell_type": "code",
   "execution_count": 21,
   "id": "7e006884",
   "metadata": {},
   "outputs": [
    {
     "name": "stdout",
     "output_type": "stream",
     "text": [
      "2\n",
      "3\n"
     ]
    }
   ],
   "source": [
    "A = np.array([[1, 2, 3], [4, 5, 6], [7, 8, 9]])\n",
    "B = np.array([12, 2, 1])\n",
    "\n",
    "print(np.linalg.matrix_rank(A))\n",
    "\n",
    "C = np.hstack((A, B[:, np.newaxis]))\n",
    "\n",
    "print(np.linalg.matrix_rank(C))"
   ]
  },
  {
   "cell_type": "code",
   "execution_count": 22,
   "id": "f50778fa",
   "metadata": {},
   "outputs": [],
   "source": [
    "# Система не имеет решений"
   ]
  },
  {
   "cell_type": "code",
   "execution_count": 31,
   "id": "87053d7f",
   "metadata": {},
   "outputs": [
    {
     "name": "stdout",
     "output_type": "stream",
     "text": [
      "2\n"
     ]
    }
   ],
   "source": [
    "B[1] = 15\n",
    "B[2] = 18\n",
    "\n",
    "C = np.hstack((A, B[:, np.newaxis]))\n",
    "print(np.linalg.matrix_rank(C))"
   ]
  },
  {
   "cell_type": "code",
   "execution_count": 32,
   "id": "56cd3491",
   "metadata": {},
   "outputs": [],
   "source": [
    "# Система имеет бесконечное множество решений"
   ]
  },
  {
   "cell_type": "markdown",
   "id": "cd455d92",
   "metadata": {},
   "source": [
    "### 4"
   ]
  },
  {
   "cell_type": "code",
   "execution_count": 36,
   "id": "5f77cbe3",
   "metadata": {},
   "outputs": [
    {
     "data": {
      "text/plain": [
       "(array([[0., 1., 0.],\n",
       "        [0., 0., 1.],\n",
       "        [1., 0., 0.]]),\n",
       " array([[ 1.  ,  0.  ,  0.  ],\n",
       "        [ 0.25,  1.  ,  0.  ],\n",
       "        [ 0.5 , -0.4 ,  1.  ]]),\n",
       " array([[  4.  ,  28.  ,  73.  ],\n",
       "        [  0.  ,  -5.  , -15.25],\n",
       "        [  0.  ,   0.  , -21.6 ]]))"
      ]
     },
     "execution_count": 36,
     "metadata": {},
     "output_type": "execute_result"
    }
   ],
   "source": [
    "A = np.array([[1, 2, 3], [2, 16, 21], [4, 28, 73]])\n",
    "\n",
    "scipy.linalg.lu(A)"
   ]
  },
  {
   "cell_type": "markdown",
   "id": "c98cf022",
   "metadata": {},
   "source": [
    "### 5"
   ]
  },
  {
   "cell_type": "code",
   "execution_count": 37,
   "id": "38a9f84f",
   "metadata": {},
   "outputs": [],
   "source": [
    "def Q(x, y, z):\n",
    "    return x**2 + y**2 + z**2"
   ]
  },
  {
   "cell_type": "code",
   "execution_count": 52,
   "id": "0d1a02c6",
   "metadata": {},
   "outputs": [
    {
     "name": "stdout",
     "output_type": "stream",
     "text": [
      "1.3818999818999826 -0.18100018100017223 0.019899619899638177\n"
     ]
    }
   ],
   "source": [
    "A = np.array([[1, 2, -1], [8, -5, 2]])\n",
    "B = np.array([1, 12])\n",
    "\n",
    "Y = np.linspace(-1000, 1000, num=1000000)\n",
    "X = 0.1 * Y + 1.4\n",
    "Z = X + 2 * Y - 1\n",
    "\n",
    "argmin = Q(X, Y, Z).argmin()\n",
    "print(X[argmin], Y[argmin], Z[argmin])"
   ]
  },
  {
   "cell_type": "code",
   "execution_count": 48,
   "id": "b8d87715",
   "metadata": {},
   "outputs": [
    {
     "name": "stderr",
     "output_type": "stream",
     "text": [
      "C:\\Users\\Алексей\\AppData\\Local\\Temp\\ipykernel_10384\\1844739126.py:1: FutureWarning: `rcond` parameter will change to the default of machine precision times ``max(M, N)`` where M and N are the input matrix dimensions.\n",
      "To use the future default and silence this warning we advise to pass `rcond=None`, to keep using the old, explicitly pass `rcond=-1`.\n",
      "  np.linalg.lstsq(A, B)\n"
     ]
    },
    {
     "data": {
      "text/plain": [
       "(array([ 1.38191882, -0.18081181,  0.0202952 ]),\n",
       " array([], dtype=float64),\n",
       " 2,\n",
       " array([9.65316119, 2.41173777]))"
      ]
     },
     "execution_count": 48,
     "metadata": {},
     "output_type": "execute_result"
    }
   ],
   "source": [
    "np.linalg.lstsq(A, B)"
   ]
  },
  {
   "cell_type": "markdown",
   "id": "90dc46d6",
   "metadata": {},
   "source": [
    "### 6"
   ]
  },
  {
   "cell_type": "code",
   "execution_count": 60,
   "id": "7460fd46",
   "metadata": {},
   "outputs": [
    {
     "data": {
      "text/plain": [
       "array([1.50000000e+00, 3.92767275e-15, 0.00000000e+00])"
      ]
     },
     "execution_count": 60,
     "metadata": {},
     "output_type": "execute_result"
    }
   ],
   "source": [
    "A = np.array([[1, 2, 3], [4, 5, 6], [7, 8, 9]])\n",
    "B = np.array([2, 5, 11])\n",
    "\n",
    "Q, R = np.linalg.qr(A)\n",
    "\n",
    "np.dot(Q.T, B)[:2]\n",
    "np.append(np.linalg.solve(R[:2, :2], np.dot(Q.T, B)[:2]), 0)"
   ]
  },
  {
   "cell_type": "code",
   "execution_count": null,
   "id": "16e0812c",
   "metadata": {},
   "outputs": [],
   "source": []
  }
 ],
 "metadata": {
  "kernelspec": {
   "display_name": "Python 3 (ipykernel)",
   "language": "python",
   "name": "python3"
  },
  "language_info": {
   "codemirror_mode": {
    "name": "ipython",
    "version": 3
   },
   "file_extension": ".py",
   "mimetype": "text/x-python",
   "name": "python",
   "nbconvert_exporter": "python",
   "pygments_lexer": "ipython3",
   "version": "3.10.4"
  }
 },
 "nbformat": 4,
 "nbformat_minor": 5
}
